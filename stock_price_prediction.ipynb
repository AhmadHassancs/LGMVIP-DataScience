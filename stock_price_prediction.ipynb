{
 "cells": [
  {
   "cell_type": "markdown",
   "metadata": {},
   "source": [
    "# Stock Prices Prediction Using Keras & Long Short Term Memory(LSTM)"
   ]
  },
  {
   "cell_type": "markdown",
   "metadata": {},
   "source": [
    "# Imports"
   ]
  },
  {
   "cell_type": "code",
   "execution_count": 1,
   "metadata": {},
   "outputs": [],
   "source": [
    "import numpy as np\n",
    "import pandas as pd\n",
    "\n",
    "import matplotlib.pyplot as plt\n",
    "\n",
    "from keras.models import Sequential\n",
    "from keras.layers import Dense\n",
    "from keras.layers import LSTM\n",
    "from keras.layers import Dropout\n",
    "\n",
    "from sklearn.preprocessing import MinMaxScaler"
   ]
  },
  {
   "cell_type": "markdown",
   "metadata": {},
   "source": [
    "## Part 1: Data Preprocessing"
   ]
  },
  {
   "cell_type": "code",
   "execution_count": 3,
   "metadata": {},
   "outputs": [],
   "source": [
    "# Importing the training set\n",
    "dataset_train = pd.read_csv('NSE-TATAGLOBAL.csv')\n",
    "training_set = dataset_train.iloc[:, 1:2].values"
   ]
  },
  {
   "cell_type": "code",
   "execution_count": 7,
   "metadata": {
    "collapsed": true
   },
   "outputs": [
    {
     "data": {
      "text/html": [
       "<div>\n",
       "<style scoped>\n",
       "    .dataframe tbody tr th:only-of-type {\n",
       "        vertical-align: middle;\n",
       "    }\n",
       "\n",
       "    .dataframe tbody tr th {\n",
       "        vertical-align: top;\n",
       "    }\n",
       "\n",
       "    .dataframe thead th {\n",
       "        text-align: right;\n",
       "    }\n",
       "</style>\n",
       "<table border=\"1\" class=\"dataframe\">\n",
       "  <thead>\n",
       "    <tr style=\"text-align: right;\">\n",
       "      <th></th>\n",
       "      <th>Date</th>\n",
       "      <th>Open</th>\n",
       "      <th>High</th>\n",
       "      <th>Low</th>\n",
       "      <th>Last</th>\n",
       "      <th>Close</th>\n",
       "      <th>Total Trade Quantity</th>\n",
       "      <th>Turnover (Lacs)</th>\n",
       "    </tr>\n",
       "  </thead>\n",
       "  <tbody>\n",
       "    <tr>\n",
       "      <th>2030</th>\n",
       "      <td>2010-07-27</td>\n",
       "      <td>117.6</td>\n",
       "      <td>119.50</td>\n",
       "      <td>112.00</td>\n",
       "      <td>118.80</td>\n",
       "      <td>118.65</td>\n",
       "      <td>586100</td>\n",
       "      <td>694.98</td>\n",
       "    </tr>\n",
       "    <tr>\n",
       "      <th>2031</th>\n",
       "      <td>2010-07-26</td>\n",
       "      <td>120.1</td>\n",
       "      <td>121.00</td>\n",
       "      <td>117.10</td>\n",
       "      <td>117.10</td>\n",
       "      <td>117.60</td>\n",
       "      <td>658440</td>\n",
       "      <td>780.01</td>\n",
       "    </tr>\n",
       "    <tr>\n",
       "      <th>2032</th>\n",
       "      <td>2010-07-23</td>\n",
       "      <td>121.8</td>\n",
       "      <td>121.95</td>\n",
       "      <td>120.25</td>\n",
       "      <td>120.35</td>\n",
       "      <td>120.65</td>\n",
       "      <td>281312</td>\n",
       "      <td>340.31</td>\n",
       "    </tr>\n",
       "    <tr>\n",
       "      <th>2033</th>\n",
       "      <td>2010-07-22</td>\n",
       "      <td>120.3</td>\n",
       "      <td>122.00</td>\n",
       "      <td>120.25</td>\n",
       "      <td>120.75</td>\n",
       "      <td>120.90</td>\n",
       "      <td>293312</td>\n",
       "      <td>355.17</td>\n",
       "    </tr>\n",
       "    <tr>\n",
       "      <th>2034</th>\n",
       "      <td>2010-07-21</td>\n",
       "      <td>122.1</td>\n",
       "      <td>123.00</td>\n",
       "      <td>121.05</td>\n",
       "      <td>121.10</td>\n",
       "      <td>121.55</td>\n",
       "      <td>658666</td>\n",
       "      <td>803.56</td>\n",
       "    </tr>\n",
       "  </tbody>\n",
       "</table>\n",
       "</div>"
      ],
      "text/plain": [
       "            Date   Open    High     Low    Last   Close  Total Trade Quantity  \\\n",
       "2030  2010-07-27  117.6  119.50  112.00  118.80  118.65                586100   \n",
       "2031  2010-07-26  120.1  121.00  117.10  117.10  117.60                658440   \n",
       "2032  2010-07-23  121.8  121.95  120.25  120.35  120.65                281312   \n",
       "2033  2010-07-22  120.3  122.00  120.25  120.75  120.90                293312   \n",
       "2034  2010-07-21  122.1  123.00  121.05  121.10  121.55                658666   \n",
       "\n",
       "      Turnover (Lacs)  \n",
       "2030           694.98  \n",
       "2031           780.01  \n",
       "2032           340.31  \n",
       "2033           355.17  \n",
       "2034           803.56  "
      ]
     },
     "execution_count": 7,
     "metadata": {},
     "output_type": "execute_result"
    }
   ],
   "source": [
    "# To see what the data looks like\n",
    "dataset_train.head()"
   ]
  },
  {
   "cell_type": "code",
   "execution_count": 5,
   "metadata": {},
   "outputs": [],
   "source": [
    "# Feature Scaling\n",
    "sc = MinMaxScaler(feature_range = (0, 1))\n",
    "training_set_scaled = sc.fit_transform(training_set)"
   ]
  },
  {
   "cell_type": "code",
   "execution_count": 6,
   "metadata": {},
   "outputs": [],
   "source": [
    "# Creating a data structure with 60 timesteps and 1 output\n",
    "X_train = []\n",
    "y_train = []\n",
    "for i in range(60, 2035):\n",
    "    X_train.append(training_set_scaled[i-60:i, 0])\n",
    "    y_train.append(training_set_scaled[i, 0])\n",
    "X_train, y_train = np.array(X_train), np.array(y_train)"
   ]
  },
  {
   "cell_type": "code",
   "execution_count": 9,
   "metadata": {},
   "outputs": [],
   "source": [
    "# Reshaping\n",
    "X_train = np.reshape(X_train, (X_train.shape[0], X_train.shape[1], 1))"
   ]
  },
  {
   "cell_type": "markdown",
   "metadata": {},
   "source": [
    "## Part 2: Building RNN"
   ]
  },
  {
   "cell_type": "code",
   "execution_count": 10,
   "metadata": {},
   "outputs": [],
   "source": [
    "# Initialising the RNN\n",
    "regressor = Sequential()\n",
    "\n",
    "# Adding the first LSTM layer and some Dropout regularisation\n",
    "regressor.add(LSTM(units = 50, return_sequences = True, input_shape = (X_train.shape[1], 1)))\n",
    "regressor.add(Dropout(0.2))\n",
    "\n",
    "# Adding a second LSTM layer and some Dropout regularisation\n",
    "regressor.add(LSTM(units = 50, return_sequences = True))\n",
    "regressor.add(Dropout(0.2))\n",
    "\n",
    "# Adding a third LSTM layer and some Dropout regularisation\n",
    "regressor.add(LSTM(units = 50, return_sequences = True))\n",
    "regressor.add(Dropout(0.2))\n",
    "\n",
    "# Adding a fourth LSTM layer and some Dropout regularisation\n",
    "regressor.add(LSTM(units = 50))\n",
    "regressor.add(Dropout(0.2))\n",
    "\n",
    "# Adding the output layer\n",
    "regressor.add(Dense(units = 1))\n",
    "\n",
    "# Compiling the RNN\n",
    "regressor.compile(optimizer = 'adam', loss = 'mean_squared_error')"
   ]
  },
  {
   "cell_type": "markdown",
   "metadata": {},
   "source": [
    "### 2.1: Training the Model"
   ]
  },
  {
   "cell_type": "code",
   "execution_count": 12,
   "metadata": {
    "collapsed": true
   },
   "outputs": [
    {
     "name": "stdout",
     "output_type": "stream",
     "text": [
      "Epoch 1/50\n",
      "62/62 [==============================] - 8s 126ms/step - loss: 0.0031\n",
      "Epoch 2/50\n",
      "62/62 [==============================] - 8s 127ms/step - loss: 0.0023\n",
      "Epoch 3/50\n",
      "62/62 [==============================] - 8s 126ms/step - loss: 0.0022\n",
      "Epoch 4/50\n",
      "62/62 [==============================] - 8s 125ms/step - loss: 0.0020\n",
      "Epoch 5/50\n",
      "62/62 [==============================] - 8s 131ms/step - loss: 0.0021\n",
      "Epoch 6/50\n",
      "62/62 [==============================] - 8s 127ms/step - loss: 0.0024\n",
      "Epoch 7/50\n",
      "62/62 [==============================] - 8s 129ms/step - loss: 0.0020\n",
      "Epoch 8/50\n",
      "62/62 [==============================] - 8s 132ms/step - loss: 0.0019\n",
      "Epoch 9/50\n",
      "62/62 [==============================] - 8s 126ms/step - loss: 0.0017\n",
      "Epoch 10/50\n",
      "62/62 [==============================] - 8s 126ms/step - loss: 0.0024\n",
      "Epoch 11/50\n",
      "62/62 [==============================] - 8s 126ms/step - loss: 0.0021\n",
      "Epoch 12/50\n",
      "62/62 [==============================] - 8s 135ms/step - loss: 0.0019\n",
      "Epoch 13/50\n",
      "62/62 [==============================] - 8s 130ms/step - loss: 0.0016\n",
      "Epoch 14/50\n",
      "62/62 [==============================] - 9s 140ms/step - loss: 0.0014 0s - loss:\n",
      "Epoch 15/50\n",
      "62/62 [==============================] - 8s 127ms/step - loss: 0.0015\n",
      "Epoch 16/50\n",
      "62/62 [==============================] - 8s 127ms/step - loss: 0.0016\n",
      "Epoch 17/50\n",
      "62/62 [==============================] - 8s 131ms/step - loss: 0.0014\n",
      "Epoch 18/50\n",
      "62/62 [==============================] - 8s 135ms/step - loss: 0.0015\n",
      "Epoch 19/50\n",
      "62/62 [==============================] - 8s 126ms/step - loss: 0.0014\n",
      "Epoch 20/50\n",
      "62/62 [==============================] - 8s 125ms/step - loss: 0.0014\n",
      "Epoch 21/50\n",
      "62/62 [==============================] - 8s 126ms/step - loss: 0.0018\n",
      "Epoch 22/50\n",
      "62/62 [==============================] - 8s 127ms/step - loss: 0.0013\n",
      "Epoch 23/50\n",
      "62/62 [==============================] - 8s 126ms/step - loss: 0.0012\n",
      "Epoch 24/50\n",
      "62/62 [==============================] - 8s 126ms/step - loss: 0.0011\n",
      "Epoch 25/50\n",
      "62/62 [==============================] - 8s 126ms/step - loss: 0.0012\n",
      "Epoch 26/50\n",
      "62/62 [==============================] - 8s 128ms/step - loss: 0.0012\n",
      "Epoch 27/50\n",
      "62/62 [==============================] - 8s 129ms/step - loss: 0.0012\n",
      "Epoch 28/50\n",
      "62/62 [==============================] - 8s 130ms/step - loss: 0.0011\n",
      "Epoch 29/50\n",
      "62/62 [==============================] - 8s 133ms/step - loss: 0.0010\n",
      "Epoch 30/50\n",
      "62/62 [==============================] - 8s 130ms/step - loss: 0.0012\n",
      "Epoch 31/50\n",
      "62/62 [==============================] - 8s 135ms/step - loss: 0.0012\n",
      "Epoch 32/50\n",
      "62/62 [==============================] - 8s 126ms/step - loss: 0.0010\n",
      "Epoch 33/50\n",
      "62/62 [==============================] - 8s 126ms/step - loss: 9.0845e-04\n",
      "Epoch 34/50\n",
      "62/62 [==============================] - 8s 129ms/step - loss: 0.0010\n",
      "Epoch 35/50\n",
      "62/62 [==============================] - 8s 131ms/step - loss: 0.0012\n",
      "Epoch 36/50\n",
      "62/62 [==============================] - 8s 128ms/step - loss: 0.0012\n",
      "Epoch 37/50\n",
      "62/62 [==============================] - 8s 129ms/step - loss: 0.0011\n",
      "Epoch 38/50\n",
      "62/62 [==============================] - 8s 134ms/step - loss: 0.0010\n",
      "Epoch 39/50\n",
      "62/62 [==============================] - 8s 126ms/step - loss: 0.0011\n",
      "Epoch 40/50\n",
      "62/62 [==============================] - 8s 127ms/step - loss: 9.5710e-04\n",
      "Epoch 41/50\n",
      "62/62 [==============================] - 9s 138ms/step - loss: 8.5770e-04\n",
      "Epoch 42/50\n",
      "62/62 [==============================] - 8s 127ms/step - loss: 0.0011\n",
      "Epoch 43/50\n",
      "62/62 [==============================] - 8s 127ms/step - loss: 9.6437e-04\n",
      "Epoch 44/50\n",
      "62/62 [==============================] - 8s 127ms/step - loss: 9.0925e-04\n",
      "Epoch 45/50\n",
      "62/62 [==============================] - 8s 130ms/step - loss: 9.9670e-04\n",
      "Epoch 46/50\n",
      "62/62 [==============================] - 8s 128ms/step - loss: 9.3187e-04\n",
      "Epoch 47/50\n",
      "62/62 [==============================] - 8s 128ms/step - loss: 8.8047e-04\n",
      "Epoch 48/50\n",
      "62/62 [==============================] - 8s 131ms/step - loss: 7.6932e-04\n",
      "Epoch 49/50\n",
      "62/62 [==============================] - 8s 127ms/step - loss: 7.6778e-04\n",
      "Epoch 50/50\n",
      "62/62 [==============================] - 9s 139ms/step - loss: 7.4116e-04\n"
     ]
    },
    {
     "data": {
      "text/plain": [
       "<tensorflow.python.keras.callbacks.History at 0x1e8b4942a30>"
      ]
     },
     "execution_count": 12,
     "metadata": {},
     "output_type": "execute_result"
    }
   ],
   "source": [
    "# Fitting the RNN to the Training set\n",
    "regressor.fit(X_train, y_train, epochs = 50, batch_size = 32)\n",
    "\n"
   ]
  },
  {
   "cell_type": "markdown",
   "metadata": {},
   "source": [
    "## Part 3: Making Predictions and Visualizing the Results"
   ]
  },
  {
   "cell_type": "code",
   "execution_count": 18,
   "metadata": {},
   "outputs": [],
   "source": [
    "# Getting the real stock price of 2017\n",
    "\n",
    "# Load Test Data\n",
    "dataset_test = pd.read_csv('tatatest.csv')\n",
    "\n",
    "real_stock_price = dataset_test.iloc[:, 1:2].values"
   ]
  },
  {
   "cell_type": "code",
   "execution_count": 19,
   "metadata": {},
   "outputs": [],
   "source": [
    "# Getting the predicted stock price of 2017\n",
    "dataset_total = pd.concat((dataset_train['Open'], dataset_test['Open']), axis = 0)\n",
    "inputs = dataset_total[len(dataset_total) - len(dataset_test) - 60:].values\n",
    "\n",
    "inputs = inputs.reshape(-1,1)\n",
    "inputs = sc.transform(inputs)\n",
    "\n",
    "X_test = []\n",
    "for i in range(60, 76):\n",
    "    X_test.append(inputs[i-60:i, 0])\n",
    "    \n",
    "X_test = np.array(X_test)\n",
    "X_test = np.reshape(X_test, (X_test.shape[0], X_test.shape[1], 1))\n",
    "predicted_stock_price = regressor.predict(X_test)\n",
    "predicted_stock_price = sc.inverse_transform(predicted_stock_price)\n"
   ]
  },
  {
   "cell_type": "code",
   "execution_count": 21,
   "metadata": {
    "collapsed": true
   },
   "outputs": [
    {
     "data": {
      "image/png": "[encoded data removed]",
      "text/plain": [
       "<Figure size 432x288 with 1 Axes>"
      ]
     },
     "metadata": {
      "needs_background": "light"
     },
     "output_type": "display_data"
    }
   ],
   "source": [
    "# Visualising the results\n",
    "plt.plot(real_stock_price, color = 'red', label = 'Real TATA Stock Price')\n",
    "plt.plot(predicted_stock_price, color = 'blue', label = 'Predicted TATA Stock Price for 2017')\n",
    "\n",
    "plt.title('TATA Stock Price Prediction')\n",
    "\n",
    "plt.xlabel('Time')\n",
    "plt.ylabel('TATA Stock Price')\n",
    "\n",
    "plt.legend()\n",
    "plt.show()"
   ]
  },
  {
   "cell_type": "code",
   "execution_count": null,
   "metadata": {},
   "outputs": [],
   "source": []
  }
 ],
 "metadata": {
  "kernelspec": {
   "display_name": "Python 3",
   "language": "python",
   "name": "python3"
  },
  "language_info": {
   "codemirror_mode": {
    "name": "ipython",
    "version": 3
   },
   "file_extension": ".py",
   "mimetype": "text/x-python",
   "name": "python",
   "nbconvert_exporter": "python",
   "pygments_lexer": "ipython3",
   "version": "3.8.8"
  }
 },
 "nbformat": 4,
 "nbformat_minor": 2
}
